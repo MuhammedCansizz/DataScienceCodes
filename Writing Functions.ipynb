{
 "cells": [
  {
   "cell_type": "code",
   "execution_count": null,
   "id": "generous-jerusalem",
   "metadata": {},
   "outputs": [],
   "source": [
    "def count_letter(content, letter):\n",
    "  \"\"\"Count the number of times `letter` appears in `content`.\n",
    "\n",
    "  Args:\n",
    "    content (str): The string to search.\n",
    "    letter (str): The letter to search for.\n",
    "\n",
    "  Returns:\n",
    "    int\n",
    "\n",
    "  # Add a section detailing what errors might be raised\n",
    "  Raises:\n",
    "    ValueError: If `letter` is not a one-character string.\n",
    "  \"\"\"\n",
    "  if (not isinstance(letter, str)) or len(letter) != 1:\n",
    "    raise ValueError('`letter` must be a single character string.')\n",
    "  return len([char for char in content if char == letter])"
   ]
  },
  {
   "cell_type": "code",
   "execution_count": 2,
   "id": "outdoor-territory",
   "metadata": {},
   "outputs": [
    {
     "data": {
      "text/plain": [
       "'\\n    Compute the histogram of a set of data.\\n\\n    Parameters\\n    ----------\\n    a : array_like\\n        Input data. The histogram is computed over the flattened array.\\n    bins : int or sequence of scalars or str, optional\\n        If `bins` is an int, it defines the number of equal-width\\n        bins in the given range (10, by default). If `bins` is a\\n        sequence, it defines a monotonically increasing array of bin edges,\\n        including the rightmost edge, allowing for non-uniform bin widths.\\n\\n        .. versionadded:: 1.11.0\\n\\n        If `bins` is a string, it defines the method used to calculate the\\n        optimal bin width, as defined by `histogram_bin_edges`.\\n\\n    range : (float, float), optional\\n        The lower and upper range of the bins.  If not provided, range\\n        is simply ``(a.min(), a.max())``.  Values outside the range are\\n        ignored. The first element of the range must be less than or\\n        equal to the second. `range` affects the automatic bin\\n        computation as well. While bin width is computed to be optimal\\n        based on the actual data within `range`, the bin count will fill\\n        the entire range including portions containing no data.\\n    normed : bool, optional\\n\\n        .. deprecated:: 1.6.0\\n\\n        This is equivalent to the `density` argument, but produces incorrect\\n        results for unequal bin widths. It should not be used.\\n\\n        .. versionchanged:: 1.15.0\\n            DeprecationWarnings are actually emitted.\\n\\n    weights : array_like, optional\\n        An array of weights, of the same shape as `a`.  Each value in\\n        `a` only contributes its associated weight towards the bin count\\n        (instead of 1). If `density` is True, the weights are\\n        normalized, so that the integral of the density over the range\\n        remains 1.\\n    density : bool, optional\\n        If ``False``, the result will contain the number of samples in\\n        each bin. If ``True``, the result is the value of the\\n        probability *density* function at the bin, normalized such that\\n        the *integral* over the range is 1. Note that the sum of the\\n        histogram values will not be equal to 1 unless bins of unity\\n        width are chosen; it is not a probability *mass* function.\\n\\n        Overrides the ``normed`` keyword if given.\\n\\n    Returns\\n    -------\\n    hist : array\\n        The values of the histogram. See `density` and `weights` for a\\n        description of the possible semantics.\\n    bin_edges : array of dtype float\\n        Return the bin edges ``(length(hist)+1)``.\\n\\n\\n    See Also\\n    --------\\n    histogramdd, bincount, searchsorted, digitize, histogram_bin_edges\\n\\n    Notes\\n    -----\\n    All but the last (righthand-most) bin is half-open.  In other words,\\n    if `bins` is::\\n\\n      [1, 2, 3, 4]\\n\\n    then the first bin is ``[1, 2)`` (including 1, but excluding 2) and\\n    the second ``[2, 3)``.  The last bin, however, is ``[3, 4]``, which\\n    *includes* 4.\\n\\n\\n    Examples\\n    --------\\n    >>> np.histogram([1, 2, 1], bins=[0, 1, 2, 3])\\n    (array([0, 2, 1]), array([0, 1, 2, 3]))\\n    >>> np.histogram(np.arange(4), bins=np.arange(5), density=True)\\n    (array([0.25, 0.25, 0.25, 0.25]), array([0, 1, 2, 3, 4]))\\n    >>> np.histogram([[1, 2, 1], [1, 0, 1]], bins=[0,1,2,3])\\n    (array([1, 4, 1]), array([0, 1, 2, 3]))\\n\\n    >>> a = np.arange(5)\\n    >>> hist, bin_edges = np.histogram(a, density=True)\\n    >>> hist\\n    array([0.5, 0. , 0.5, 0. , 0. , 0.5, 0. , 0.5, 0. , 0.5])\\n    >>> hist.sum()\\n    2.4999999999999996\\n    >>> np.sum(hist * np.diff(bin_edges))\\n    1.0\\n\\n    .. versionadded:: 1.11.0\\n\\n    Automated Bin Selection Methods example, using 2 peak random data\\n    with 2000 points:\\n\\n    >>> import matplotlib.pyplot as plt\\n    >>> rng = np.random.RandomState(10)  # deterministic random data\\n    >>> a = np.hstack((rng.normal(size=1000),\\n    ...                rng.normal(loc=5, scale=2, size=1000)))\\n    >>> _ = plt.hist(a, bins=\\'auto\\')  # arguments are passed to np.histogram\\n    >>> plt.title(\"Histogram with \\'auto\\' bins\")\\n    Text(0.5, 1.0, \"Histogram with \\'auto\\' bins\")\\n    >>> plt.show()\\n\\n    '"
      ]
     },
     "execution_count": 2,
     "metadata": {},
     "output_type": "execute_result"
    }
   ],
   "source": [
    "import numpy as np\n",
    "np.histogram.__doc__"
   ]
  },
  {
   "cell_type": "code",
   "execution_count": null,
   "id": "initial-disability",
   "metadata": {},
   "outputs": [],
   "source": [
    "# Add a decorator that will make timer() a context manager\n",
    "@contextlib.contextmanager\n",
    "def timer():\n",
    "  \"\"\"Time the execution of a context block.\n",
    "\n",
    "  Yields:\n",
    "    None\n",
    "  \"\"\"\n",
    "  start = time.time()\n",
    "  # Send control back to the context block\n",
    "  yield\n",
    "  end = time.time()\n",
    "  print('Elapsed: {:.2f}s'.format(end - start))\n",
    "\n",
    "with timer():\n",
    "  print('This should take approximately 0.25 seconds')\n",
    "  time.sleep(0.25)"
   ]
  },
  {
   "cell_type": "code",
   "execution_count": null,
   "id": "affiliated-surfing",
   "metadata": {},
   "outputs": [],
   "source": [
    "# Use the \"stock('NVDA')\" context manager\n",
    "# and assign the result to the variable \"nvda\"\n",
    "with stock('NVDA') as nvda:\n",
    "  # Open 'NVDA.txt' for writing as f_out\n",
    "  with open('NVDA.txt', 'w') as f_out:\n",
    "    for _ in range(10):\n",
    "      value = nvda.price()\n",
    "      print('Logging ${:.2f} for NVDA'.format(value))\n",
    "      f_out.write('{:.2f}\\n'.format(value))"
   ]
  },
  {
   "cell_type": "code",
   "execution_count": null,
   "id": "acquired-margin",
   "metadata": {},
   "outputs": [],
   "source": [
    "def in_dir(directory):\n",
    "  \"\"\"Change current working directory to `directory`,\n",
    "  allow the user to run some code, and change back.\n",
    "\n",
    "  Args:\n",
    "    directory (str): The path to a directory to work in.\n",
    "  \"\"\"\n",
    "  current_dir = os.getcwd()\n",
    "  os.chdir(directory)\n",
    "\n",
    "  # Add code that lets you handle errors\n",
    "  try:\n",
    "    yield\n",
    "  # Ensure the directory is reset,\n",
    "  # whether there was an error or not\n",
    "  finally:\n",
    "    os.chdir(current_dir)"
   ]
  },
  {
   "cell_type": "code",
   "execution_count": null,
   "id": "portuguese-racing",
   "metadata": {},
   "outputs": [],
   "source": [
    "# Add the missing function references to the function map\n",
    "function_map = {\n",
    "  'mean': mean,\n",
    "  'std': std,\n",
    "  'minimum': minimum,\n",
    "  'maximum': maximum\n",
    "}\n",
    "\n",
    "data = load_data()\n",
    "print(data)\n",
    "\n",
    "func_name = get_user_input()\n",
    "\n",
    "# Call the chosen function and pass \"data\" as an argument\n",
    "function_map[\"minimum\"](data)"
   ]
  },
  {
   "cell_type": "code",
   "execution_count": null,
   "id": "phantom-spoke",
   "metadata": {},
   "outputs": [],
   "source": [
    "def create_math_function(func_name):\n",
    "  if func_name == 'add':\n",
    "    def add(a, b):\n",
    "      return a + b\n",
    "    return add\n",
    "  elif func_name == 'subtract':\n",
    "    # Define the subtract() function\n",
    "    def subtract(a,b):\n",
    "      return a-b\n",
    "    return subtract\n",
    "  else:\n",
    "    print(\"I don't know that one\")\n",
    "    \n",
    "add = create_math_function('add')\n",
    "print('5 + 2 = {}'.format(add(5, 2)))\n",
    "\n",
    "subtract = create_math_function('subtract')\n",
    "print('5 - 2 = {}'.format(subtract(5, 2)))"
   ]
  },
  {
   "cell_type": "code",
   "execution_count": null,
   "id": "further-cornell",
   "metadata": {},
   "outputs": [],
   "source": [
    "def return_a_func(arg1, arg2):\n",
    "  def new_func():\n",
    "    print('arg1 was {}'.format(arg1))\n",
    "    print('arg2 was {}'.format(arg2))\n",
    "  return new_func\n",
    "    \n",
    "my_func = return_a_func(2, 17)\n",
    "\n",
    "print(my_func.__closure__ is not None)\n",
    "print(len(my_func.__closure__) == 2)\n",
    "\n",
    "# Get the values of the variables in the closure\n",
    "closure_values = [\n",
    "  my_func.__closure__[i].cell_contents for i in range(2)\n",
    "]\n",
    "print(closure_values == [2, 17])"
   ]
  },
  {
   "cell_type": "code",
   "execution_count": null,
   "id": "former-michael",
   "metadata": {},
   "outputs": [],
   "source": [
    "def print_return_type(func):\n",
    "  # Define wrapper(), the decorated function\n",
    "  def wrapper(*args, **kwargs):\n",
    "    # Call the function being decorated\n",
    "    result = func(*args, **kwargs)\n",
    "    print('{}() returned type {}'.format(\n",
    "      func.__name__, type(result)\n",
    "    ))\n",
    "    return result\n",
    "  # Return the decorated function\n",
    "  return wrapper\n",
    "  \n",
    "@print_return_type\n",
    "def foo(value):\n",
    "  return value\n",
    "  \n",
    "print(foo(42))\n",
    "print(foo([1, 2, 3]))\n",
    "print(foo({'a': 42}))"
   ]
  },
  {
   "cell_type": "code",
   "execution_count": null,
   "id": "every-scheduling",
   "metadata": {},
   "outputs": [],
   "source": [
    "def counter(func):\n",
    "  def wrapper(*args, **kwargs):\n",
    "    wrapper.count += 1\n",
    "    # Call the function being decorated and return the result\n",
    "    return func\n",
    "  wrapper.count = 0\n",
    "  # Return the new decorated function\n",
    "  return wrapper\n",
    "\n",
    "# Decorate foo() with the counter() decorator\n",
    "@counter\n",
    "def foo():\n",
    "  print('calling foo()')\n",
    "  \n",
    "foo()\n",
    "foo()\n",
    "\n",
    "print('foo() was called {} times.'.format(foo.count))"
   ]
  },
  {
   "cell_type": "code",
   "execution_count": null,
   "id": "eligible-affair",
   "metadata": {},
   "outputs": [],
   "source": [
    "from functools import wraps\n",
    "\n",
    "def add_hello(func):\n",
    "  # Decorate wrapper() so that it keeps func()'s metadata\n",
    "  @wraps(func)\n",
    "  def wrapper(*args, **kwargs):\n",
    "    \"\"\"Print 'hello' and then call the decorated function.\"\"\"\n",
    "    print('Hello')\n",
    "    return func(*args, **kwargs)\n",
    "  return wrapper\n",
    "  \n",
    "@add_hello\n",
    "def print_sum(a, b):\n",
    "  \"\"\"Adds two numbers and prints the sum\"\"\"\n",
    "  print(a + b)\n",
    "  \n",
    "print_sum(10, 20)\n",
    "print(print_sum.__doc__)"
   ]
  },
  {
   "cell_type": "code",
   "execution_count": null,
   "id": "intended-printer",
   "metadata": {},
   "outputs": [],
   "source": [
    "@check_everything\n",
    "def duplicate(my_list):\n",
    "  \"\"\"Return a new list that repeats the input twice\"\"\"\n",
    "  return my_list + my_list\n",
    "\n",
    "t_start = time.time()\n",
    "duplicated_list = duplicate(list(range(50)))\n",
    "t_end = time.time()\n",
    "decorated_time = t_end - t_start\n",
    "\n",
    "t_start = time.time()\n",
    "# Call the original function instead of the decorated one\n",
    "duplicated_list = duplicate.__wrapped__(list(range(50)))\n",
    "t_end = time.time()\n",
    "undecorated_time = t_end - t_start\n",
    "\n",
    "print('Decorated time: {:.5f}s'.format(decorated_time))\n",
    "print('Undecorated time: {:.5f}s'.format(undecorated_time))"
   ]
  }
 ],
 "metadata": {
  "kernelspec": {
   "display_name": "Python 3",
   "language": "python",
   "name": "python3"
  },
  "language_info": {
   "codemirror_mode": {
    "name": "ipython",
    "version": 3
   },
   "file_extension": ".py",
   "mimetype": "text/x-python",
   "name": "python",
   "nbconvert_exporter": "python",
   "pygments_lexer": "ipython3",
   "version": "3.7.0"
  }
 },
 "nbformat": 4,
 "nbformat_minor": 5
}
